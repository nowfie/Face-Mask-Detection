{
 "cells": [
  {
   "cell_type": "code",
   "execution_count": 2,
   "metadata": {},
   "outputs": [],
   "source": [
    "import os\n",
    "import cv2\n",
    "import numpy as np\n",
    "import matplotlib.pyplot as plt"
   ]
  },
  {
   "cell_type": "code",
   "execution_count": 31,
   "metadata": {},
   "outputs": [],
   "source": [
    "train_dir = os.path.join('data','with_without')\n",
    "all_classification = []\n",
    "all_labels = []"
   ]
  },
  {
   "cell_type": "code",
   "execution_count": 39,
   "metadata": {},
   "outputs": [],
   "source": [
    "for folder in os.listdir(train_dir):\n",
    "    for file in os.listdir(os.path.join(train_dir, folder)):\n",
    "        img_path = os.path.join(train_dir, folder, file)\n",
    "        img = cv2.imread(img_path,0)\n",
    "        arr = np.array(img)\n",
    "        resized_img = cv2.resize(arr,(256,256))\n",
    "        resized_arr = np.array(resized_img)\n",
    "        all_labels.append(resized_arr)\n",
    "        all_classification.append(folder)"
   ]
  },
  {
   "cell_type": "code",
   "execution_count": 40,
   "metadata": {},
   "outputs": [],
   "source": [
    "from sklearn.preprocessing import LabelEncoder,MinMaxScaler\n",
    "from sklearn.model_selection import train_test_split\n",
    "from keras.utils import to_categorical\n",
    "\n",
    "encoder = LabelEncoder()\n",
    "\n",
    "X = np.array(all_labels)\n",
    "X = X/255\n",
    "y = np.array(all_classification)\n",
    "y = encoder.fit_transform(y)\n",
    "\n",
    "X_train,X_test,y_train,y_test = train_test_split(X,y,train_size=0.8,random_state=42)"
   ]
  },
  {
   "cell_type": "code",
   "execution_count": 47,
   "metadata": {},
   "outputs": [
    {
     "name": "stdout",
     "output_type": "stream",
     "text": [
      "Model: \"sequential_4\"\n",
      "_________________________________________________________________\n",
      " Layer (type)                Output Shape              Param #   \n",
      "=================================================================\n",
      " conv2d_9 (Conv2D)           (None, 254, 254, 32)      320       \n",
      "                                                                 \n",
      " max_pooling2d_9 (MaxPoolin  (None, 127, 127, 32)      0         \n",
      " g2D)                                                            \n",
      "                                                                 \n",
      " dropout_12 (Dropout)        (None, 127, 127, 32)      0         \n",
      "                                                                 \n",
      " conv2d_10 (Conv2D)          (None, 125, 125, 32)      9248      \n",
      "                                                                 \n",
      " max_pooling2d_10 (MaxPooli  (None, 62, 62, 32)        0         \n",
      " ng2D)                                                           \n",
      "                                                                 \n",
      " dropout_13 (Dropout)        (None, 62, 62, 32)        0         \n",
      "                                                                 \n",
      " flatten_4 (Flatten)         (None, 123008)            0         \n",
      "                                                                 \n",
      " dense_8 (Dense)             (None, 16)                1968144   \n",
      "                                                                 \n",
      " dense_9 (Dense)             (None, 1)                 17        \n",
      "                                                                 \n",
      "=================================================================\n",
      "Total params: 1977729 (7.54 MB)\n",
      "Trainable params: 1977729 (7.54 MB)\n",
      "Non-trainable params: 0 (0.00 Byte)\n",
      "_________________________________________________________________\n"
     ]
    }
   ],
   "source": [
    "from keras.models import Sequential\n",
    "from keras.layers import Conv2D,MaxPooling2D,Dropout,BatchNormalization,Dense,Flatten\n",
    "\n",
    "model =Sequential()\n",
    "model.add(Conv2D(32,(3,3),input_shape=(X.shape[1],X.shape[2],1),activation='relu'))\n",
    "model.add(MaxPooling2D(pool_size=(2,2)))\n",
    "model.add(Dropout(0.2))\n",
    "\n",
    "model.add(Conv2D(32,(3,3),activation='relu'))\n",
    "model.add(MaxPooling2D(pool_size=(2,2)))\n",
    "model.add(Dropout(0.2))\n",
    "\n",
    "model.add(Flatten())\n",
    "\n",
    "model.add(Dense(16,activation='relu'))\n",
    "model.add(Dense(1,activation='sigmoid'))\n",
    "\n",
    "model.summary()"
   ]
  },
  {
   "cell_type": "code",
   "execution_count": 69,
   "metadata": {},
   "outputs": [
    {
     "name": "stdout",
     "output_type": "stream",
     "text": [
      "Epoch 1/2\n",
      "95/95 [==============================] - 121s 1s/step - loss: 0.0773 - accuracy: 0.9763 - val_loss: 0.5475 - val_accuracy: 0.8332\n",
      "Epoch 2/2\n",
      "95/95 [==============================] - 121s 1s/step - loss: 0.0631 - accuracy: 0.9813 - val_loss: 0.5141 - val_accuracy: 0.8438\n"
     ]
    },
    {
     "data": {
      "text/plain": [
       "<keras.src.callbacks.History at 0x1ee2850a710>"
      ]
     },
     "execution_count": 69,
     "metadata": {},
     "output_type": "execute_result"
    }
   ],
   "source": [
    "model.compile(loss='binary_crossentropy',optimizer='adam',metrics=['accuracy'])\n",
    "model.fit(X_train,y_train,epochs=2,batch_size=64,validation_data=[X_test,y_test])"
   ]
  },
  {
   "cell_type": "code",
   "execution_count": 70,
   "metadata": {},
   "outputs": [
    {
     "name": "stdout",
     "output_type": "stream",
     "text": [
      "48/48 [==============================] - 5s 103ms/step\n",
      "[[585 147]\n",
      " [ 89 690]]\n"
     ]
    }
   ],
   "source": [
    "from  sklearn.metrics import confusion_matrix\n",
    "prediction = model.predict(X_test)\n",
    "prediction = (prediction>0.5).astype(np.int64)\n",
    "cm = confusion_matrix(y_test,prediction)\n",
    "print(cm)"
   ]
  },
  {
   "cell_type": "code",
   "execution_count": 71,
   "metadata": {},
   "outputs": [
    {
     "name": "stderr",
     "output_type": "stream",
     "text": [
      "c:\\Users\\ssnow\\anaconda3\\Lib\\site-packages\\keras\\src\\engine\\training.py:3079: UserWarning: You are saving your model as an HDF5 file via `model.save()`. This file format is considered legacy. We recommend using instead the native Keras format, e.g. `model.save('my_model.keras')`.\n",
      "  saving_api.save_model(\n"
     ]
    }
   ],
   "source": [
    "model.save('mask_detection.h5')"
   ]
  },
  {
   "cell_type": "code",
   "execution_count": 2,
   "metadata": {},
   "outputs": [],
   "source": [
    "import cv2\n",
    "import numpy as np\n",
    "face_cascade = cv2.CascadeClassifier(cv2.data.haarcascades + 'haarcascade_frontalface_default.xml')"
   ]
  },
  {
   "cell_type": "code",
   "execution_count": 3,
   "metadata": {},
   "outputs": [
    {
     "name": "stdout",
     "output_type": "stream",
     "text": [
      "1/1 [==============================] - 1s 584ms/step\n",
      "1/1 [==============================] - 0s 28ms/step\n",
      "1/1 [==============================] - 0s 26ms/step\n",
      "1/1 [==============================] - 0s 48ms/step\n",
      "1/1 [==============================] - 0s 28ms/step\n",
      "1/1 [==============================] - 0s 25ms/step\n",
      "1/1 [==============================] - 0s 30ms/step\n",
      "1/1 [==============================] - 0s 29ms/step\n",
      "1/1 [==============================] - 0s 27ms/step\n",
      "1/1 [==============================] - 0s 31ms/step\n",
      "1/1 [==============================] - 0s 29ms/step\n",
      "1/1 [==============================] - 0s 27ms/step\n",
      "1/1 [==============================] - 0s 30ms/step\n",
      "1/1 [==============================] - 0s 29ms/step\n",
      "1/1 [==============================] - 0s 27ms/step\n",
      "1/1 [==============================] - 0s 31ms/step\n",
      "1/1 [==============================] - 0s 31ms/step\n",
      "1/1 [==============================] - 0s 31ms/step\n",
      "1/1 [==============================] - 0s 24ms/step\n",
      "1/1 [==============================] - 0s 27ms/step\n",
      "1/1 [==============================] - 0s 26ms/step\n",
      "1/1 [==============================] - 0s 28ms/step\n",
      "1/1 [==============================] - 0s 28ms/step\n",
      "1/1 [==============================] - 0s 25ms/step\n"
     ]
    }
   ],
   "source": [
    "from keras.models import load_model\n",
    "\n",
    "load_model = load_model('mask_detection.h5')\n",
    "\n",
    "def preprocess_face(face_img):\n",
    "    gray_img = cv2.cvtColor(face_img, cv2.COLOR_BGR2GRAY)\n",
    "    resized_img = cv2.resize(gray_img, (256, 256))\n",
    "    resized_img = np.expand_dims(resized_img, axis=-1)\n",
    "    resized_img = resized_img / 255.0\n",
    "    resized_img = np.expand_dims(resized_img, axis=0)\n",
    "    return resized_img\n",
    "\n",
    "\n",
    "def prediction_function(face_img):\n",
    "    face_img = preprocess_face(face_img)\n",
    "    prediction = load_model.predict(face_img)\n",
    "    return prediction[0][0] > 0.5 \n",
    "\n",
    "cap = cv2.VideoCapture(0)\n",
    "\n",
    "while True:\n",
    "    ret, frame = cap.read()\n",
    "    gray = cv2.cvtColor(frame, cv2.COLOR_BGR2GRAY)\n",
    "    faces = face_cascade.detectMultiScale(gray, 1.3, 5)\n",
    "    for (x, y, w, h) in faces:\n",
    "        face_roi = frame[y:y+h, x:x+w]\n",
    "        if prediction_function(face_roi):\n",
    "            label = \"No mask\"\n",
    "            color = (0, 0, 255) \n",
    "        else:\n",
    "            label = \"Mask\"\n",
    "            color = (0, 255, 0)   \n",
    "        cv2.putText(frame, label, (x, y-10), cv2.FONT_HERSHEY_SIMPLEX, 0.5, color, 2)\n",
    "        cv2.rectangle(frame, (x, y), (x+w, y+h), color, 2)\n",
    "    cv2.imshow('Result', frame)\n",
    "    if cv2.waitKey(1) & 0xFF == ord('q'):\n",
    "        break\n",
    "\n",
    "cap.release()\n",
    "cv2.destroyAllWindows()"
   ]
  },
  {
   "cell_type": "code",
   "execution_count": 4,
   "metadata": {},
   "outputs": [
    {
     "name": "stdout",
     "output_type": "stream",
     "text": [
      "1/1 [==============================] - 0s 33ms/step\n"
     ]
    }
   ],
   "source": [
    "def preprocess_face(face_img):\n",
    "    gray_img = cv2.cvtColor(face_img, cv2.COLOR_BGR2GRAY)\n",
    "    resized_img = cv2.resize(gray_img, (256, 256))\n",
    "    resized_img = np.expand_dims(resized_img, axis=-1)\n",
    "    resized_img = resized_img / 255.0\n",
    "    resized_img = np.expand_dims(resized_img, axis=0)\n",
    "    return resized_img\n",
    "\n",
    "def predict_mask(face_img):\n",
    "    \n",
    "    face_img = preprocess_face(face_img)\n",
    "    prediction = load_model.predict(face_img)\n",
    "    return prediction[0][0] > 0.5 \n",
    "\n",
    "image_path = \"D:\\Visual studio\\Course\\Deep Learning\\Jupyter Notebook\\Face mask detection\\data\\images\\maksssksksss60.png\"  # Path to your test image\n",
    "#image_path = \"D:\\Visual studio\\Course\\Deep Learning\\Jupyter Notebook\\Face mask detection\\data\\images\\maksssksksss48.png\"\n",
    "image = cv2.imread(image_path)\n",
    "\n",
    "faces = face_cascade.detectMultiScale(cv2.cvtColor(image, cv2.COLOR_BGR2GRAY), 1.3, 5)\n",
    "\n",
    "for (x, y, w, h) in faces:\n",
    "    face_roi = image[y:y+h, x:x+w]\n",
    "    if predict_mask(face_roi):\n",
    "        label = \"No Mask\"\n",
    "        color = (0, 0, 255) \n",
    "    else:\n",
    "        label = \"Mask\"\n",
    "        color = (0, 255, 0) \n",
    "\n",
    "    cv2.putText(image, label, (x, y-10), cv2.FONT_HERSHEY_SIMPLEX, 0.5, color, 2)\n",
    "    cv2.rectangle(image, (x, y), (x+w, y+h), color, 2)\n",
    "\n",
    "cv2.imshow('Face Mask Detection', image)\n",
    "cv2.waitKey(0)\n",
    "cv2.destroyAllWindows()\n"
   ]
  }
 ],
 "metadata": {
  "kernelspec": {
   "display_name": "base",
   "language": "python",
   "name": "python3"
  },
  "language_info": {
   "codemirror_mode": {
    "name": "ipython",
    "version": 3
   },
   "file_extension": ".py",
   "mimetype": "text/x-python",
   "name": "python",
   "nbconvert_exporter": "python",
   "pygments_lexer": "ipython3",
   "version": "3.11.5"
  }
 },
 "nbformat": 4,
 "nbformat_minor": 2
}
